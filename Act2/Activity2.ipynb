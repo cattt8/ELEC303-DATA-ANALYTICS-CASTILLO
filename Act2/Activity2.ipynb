{
 "cells": [
  {
   "cell_type": "markdown",
   "id": "7c24e411-24c5-447d-b5e8-a353e280ba85",
   "metadata": {},
   "source": [
    "<H1>Activity 2: United Kingdom Road Accident Data Analysis</H1>"
   ]
  },
  {
   "cell_type": "markdown",
   "id": "1c0017b4-49cb-4c71-8395-f84d54696e5d",
   "metadata": {},
   "source": [
    "<h2>•••••Import Necessary Libraries•••••</h2>"
   ]
  },
  {
   "cell_type": "code",
   "execution_count": 11,
   "id": "d04b23a5-8e59-4cfb-a4e8-17aa4c7deba7",
   "metadata": {},
   "outputs": [],
   "source": [
    "import numpy as np\n",
    "import pandas as pd\n",
    "import warnings\n",
    "warnings.filterwarnings('ignore')\n",
    "from scipy.stats import f_oneway"
   ]
  },
  {
   "cell_type": "markdown",
   "id": "2928fd9a-e0f4-4354-b950-a08897e06226",
   "metadata": {},
   "source": [
    "<h2>•••••Making DataFrame•••••</h2>"
   ]
  },
  {
   "cell_type": "code",
   "execution_count": 2,
   "id": "158e04b5-0015-4af9-bf89-cd01e37e0f4e",
   "metadata": {},
   "outputs": [],
   "source": [
    "accident = pd.read_csv(\"data\\\\accident_data.csv\")"
   ]
  },
  {
   "cell_type": "markdown",
   "id": "0e19f32f-2b43-4fe1-ace9-e7ed74053088",
   "metadata": {},
   "source": [
    "<h2>•••••Checking DataFrame•••••</h2>"
   ]
  },
  {
   "cell_type": "code",
   "execution_count": 3,
   "id": "6a00501c-28e5-48f7-b6ff-9156c41a60d3",
   "metadata": {},
   "outputs": [
    {
     "data": {
      "text/html": [
       "<div>\n",
       "<style scoped>\n",
       "    .dataframe tbody tr th:only-of-type {\n",
       "        vertical-align: middle;\n",
       "    }\n",
       "\n",
       "    .dataframe tbody tr th {\n",
       "        vertical-align: top;\n",
       "    }\n",
       "\n",
       "    .dataframe thead th {\n",
       "        text-align: right;\n",
       "    }\n",
       "</style>\n",
       "<table border=\"1\" class=\"dataframe\">\n",
       "  <thead>\n",
       "    <tr style=\"text-align: right;\">\n",
       "      <th></th>\n",
       "      <th>Index</th>\n",
       "      <th>Accident_Severity</th>\n",
       "      <th>Accident Date</th>\n",
       "      <th>Latitude</th>\n",
       "      <th>Light_Conditions</th>\n",
       "      <th>District Area</th>\n",
       "      <th>Longitude</th>\n",
       "      <th>Number_of_Casualties</th>\n",
       "      <th>Number_of_Vehicles</th>\n",
       "      <th>Road_Surface_Conditions</th>\n",
       "      <th>Road_Type</th>\n",
       "      <th>Urban_or_Rural_Area</th>\n",
       "      <th>Weather_Conditions</th>\n",
       "      <th>Vehicle_Type</th>\n",
       "    </tr>\n",
       "  </thead>\n",
       "  <tbody>\n",
       "    <tr>\n",
       "      <th>0</th>\n",
       "      <td>200701BS64157</td>\n",
       "      <td>Serious</td>\n",
       "      <td>5/6/2019</td>\n",
       "      <td>51.506187</td>\n",
       "      <td>Darkness - lights lit</td>\n",
       "      <td>Kensington and Chelsea</td>\n",
       "      <td>-0.209082</td>\n",
       "      <td>1</td>\n",
       "      <td>2</td>\n",
       "      <td>Dry</td>\n",
       "      <td>Single carriageway</td>\n",
       "      <td>Urban</td>\n",
       "      <td>Fine no high winds</td>\n",
       "      <td>Car</td>\n",
       "    </tr>\n",
       "    <tr>\n",
       "      <th>1</th>\n",
       "      <td>200701BS65737</td>\n",
       "      <td>Serious</td>\n",
       "      <td>2/7/2019</td>\n",
       "      <td>51.495029</td>\n",
       "      <td>Daylight</td>\n",
       "      <td>Kensington and Chelsea</td>\n",
       "      <td>-0.173647</td>\n",
       "      <td>1</td>\n",
       "      <td>2</td>\n",
       "      <td>Wet or damp</td>\n",
       "      <td>Single carriageway</td>\n",
       "      <td>Urban</td>\n",
       "      <td>Raining no high winds</td>\n",
       "      <td>Car</td>\n",
       "    </tr>\n",
       "    <tr>\n",
       "      <th>2</th>\n",
       "      <td>200701BS66127</td>\n",
       "      <td>Serious</td>\n",
       "      <td>26-08-2019</td>\n",
       "      <td>51.517715</td>\n",
       "      <td>Darkness - lighting unknown</td>\n",
       "      <td>Kensington and Chelsea</td>\n",
       "      <td>-0.210215</td>\n",
       "      <td>1</td>\n",
       "      <td>3</td>\n",
       "      <td>Dry</td>\n",
       "      <td>NaN</td>\n",
       "      <td>Urban</td>\n",
       "      <td>NaN</td>\n",
       "      <td>Taxi/Private hire car</td>\n",
       "    </tr>\n",
       "    <tr>\n",
       "      <th>3</th>\n",
       "      <td>200701BS66128</td>\n",
       "      <td>Serious</td>\n",
       "      <td>16-08-2019</td>\n",
       "      <td>51.495478</td>\n",
       "      <td>Daylight</td>\n",
       "      <td>Kensington and Chelsea</td>\n",
       "      <td>-0.202731</td>\n",
       "      <td>1</td>\n",
       "      <td>4</td>\n",
       "      <td>Dry</td>\n",
       "      <td>Single carriageway</td>\n",
       "      <td>Urban</td>\n",
       "      <td>Fine no high winds</td>\n",
       "      <td>Bus or coach (17 or more pass seats)</td>\n",
       "    </tr>\n",
       "    <tr>\n",
       "      <th>4</th>\n",
       "      <td>200701BS66837</td>\n",
       "      <td>Slight</td>\n",
       "      <td>3/9/2019</td>\n",
       "      <td>51.488576</td>\n",
       "      <td>Darkness - lights lit</td>\n",
       "      <td>Kensington and Chelsea</td>\n",
       "      <td>-0.192487</td>\n",
       "      <td>1</td>\n",
       "      <td>2</td>\n",
       "      <td>Dry</td>\n",
       "      <td>NaN</td>\n",
       "      <td>Urban</td>\n",
       "      <td>NaN</td>\n",
       "      <td>Other vehicle</td>\n",
       "    </tr>\n",
       "    <tr>\n",
       "      <th>...</th>\n",
       "      <td>...</td>\n",
       "      <td>...</td>\n",
       "      <td>...</td>\n",
       "      <td>...</td>\n",
       "      <td>...</td>\n",
       "      <td>...</td>\n",
       "      <td>...</td>\n",
       "      <td>...</td>\n",
       "      <td>...</td>\n",
       "      <td>...</td>\n",
       "      <td>...</td>\n",
       "      <td>...</td>\n",
       "      <td>...</td>\n",
       "      <td>...</td>\n",
       "    </tr>\n",
       "    <tr>\n",
       "      <th>660674</th>\n",
       "      <td>201091NM01760</td>\n",
       "      <td>Slight</td>\n",
       "      <td>18-02-2022</td>\n",
       "      <td>57.374005</td>\n",
       "      <td>Daylight</td>\n",
       "      <td>Highland</td>\n",
       "      <td>-3.467828</td>\n",
       "      <td>2</td>\n",
       "      <td>1</td>\n",
       "      <td>Dry</td>\n",
       "      <td>Single carriageway</td>\n",
       "      <td>Rural</td>\n",
       "      <td>Fine no high winds</td>\n",
       "      <td>Car</td>\n",
       "    </tr>\n",
       "    <tr>\n",
       "      <th>660675</th>\n",
       "      <td>201091NM01881</td>\n",
       "      <td>Slight</td>\n",
       "      <td>21-02-2022</td>\n",
       "      <td>57.232273</td>\n",
       "      <td>Darkness - no lighting</td>\n",
       "      <td>Highland</td>\n",
       "      <td>-3.809281</td>\n",
       "      <td>1</td>\n",
       "      <td>1</td>\n",
       "      <td>Frost or ice</td>\n",
       "      <td>Single carriageway</td>\n",
       "      <td>Rural</td>\n",
       "      <td>Fine no high winds</td>\n",
       "      <td>Car</td>\n",
       "    </tr>\n",
       "    <tr>\n",
       "      <th>660676</th>\n",
       "      <td>201091NM01935</td>\n",
       "      <td>Slight</td>\n",
       "      <td>23-02-2022</td>\n",
       "      <td>57.585044</td>\n",
       "      <td>Daylight</td>\n",
       "      <td>Highland</td>\n",
       "      <td>-3.862727</td>\n",
       "      <td>1</td>\n",
       "      <td>3</td>\n",
       "      <td>Frost or ice</td>\n",
       "      <td>Single carriageway</td>\n",
       "      <td>Rural</td>\n",
       "      <td>Fine no high winds</td>\n",
       "      <td>Car</td>\n",
       "    </tr>\n",
       "    <tr>\n",
       "      <th>660677</th>\n",
       "      <td>201091NM01964</td>\n",
       "      <td>Serious</td>\n",
       "      <td>23-02-2022</td>\n",
       "      <td>57.214898</td>\n",
       "      <td>Darkness - no lighting</td>\n",
       "      <td>Highland</td>\n",
       "      <td>-3.823997</td>\n",
       "      <td>1</td>\n",
       "      <td>2</td>\n",
       "      <td>Wet or damp</td>\n",
       "      <td>Single carriageway</td>\n",
       "      <td>Rural</td>\n",
       "      <td>Fine no high winds</td>\n",
       "      <td>Motorcycle over 500cc</td>\n",
       "    </tr>\n",
       "    <tr>\n",
       "      <th>660678</th>\n",
       "      <td>201091NM02142</td>\n",
       "      <td>Serious</td>\n",
       "      <td>28-02-2022</td>\n",
       "      <td>57.575210</td>\n",
       "      <td>Daylight</td>\n",
       "      <td>Highland</td>\n",
       "      <td>-3.895673</td>\n",
       "      <td>1</td>\n",
       "      <td>1</td>\n",
       "      <td>Wet or damp</td>\n",
       "      <td>Dual carriageway</td>\n",
       "      <td>Rural</td>\n",
       "      <td>Snowing no high winds</td>\n",
       "      <td>Car</td>\n",
       "    </tr>\n",
       "  </tbody>\n",
       "</table>\n",
       "<p>660679 rows × 14 columns</p>\n",
       "</div>"
      ],
      "text/plain": [
       "                Index Accident_Severity Accident Date   Latitude  \\\n",
       "0       200701BS64157           Serious      5/6/2019  51.506187   \n",
       "1       200701BS65737           Serious      2/7/2019  51.495029   \n",
       "2       200701BS66127           Serious    26-08-2019  51.517715   \n",
       "3       200701BS66128           Serious    16-08-2019  51.495478   \n",
       "4       200701BS66837            Slight      3/9/2019  51.488576   \n",
       "...               ...               ...           ...        ...   \n",
       "660674  201091NM01760            Slight    18-02-2022  57.374005   \n",
       "660675  201091NM01881            Slight    21-02-2022  57.232273   \n",
       "660676  201091NM01935            Slight    23-02-2022  57.585044   \n",
       "660677  201091NM01964           Serious    23-02-2022  57.214898   \n",
       "660678  201091NM02142           Serious    28-02-2022  57.575210   \n",
       "\n",
       "                   Light_Conditions           District Area  Longitude  \\\n",
       "0             Darkness - lights lit  Kensington and Chelsea  -0.209082   \n",
       "1                          Daylight  Kensington and Chelsea  -0.173647   \n",
       "2       Darkness - lighting unknown  Kensington and Chelsea  -0.210215   \n",
       "3                          Daylight  Kensington and Chelsea  -0.202731   \n",
       "4             Darkness - lights lit  Kensington and Chelsea  -0.192487   \n",
       "...                             ...                     ...        ...   \n",
       "660674                     Daylight                Highland  -3.467828   \n",
       "660675       Darkness - no lighting                Highland  -3.809281   \n",
       "660676                     Daylight                Highland  -3.862727   \n",
       "660677       Darkness - no lighting                Highland  -3.823997   \n",
       "660678                     Daylight                Highland  -3.895673   \n",
       "\n",
       "        Number_of_Casualties  Number_of_Vehicles Road_Surface_Conditions  \\\n",
       "0                          1                   2                     Dry   \n",
       "1                          1                   2             Wet or damp   \n",
       "2                          1                   3                     Dry   \n",
       "3                          1                   4                     Dry   \n",
       "4                          1                   2                     Dry   \n",
       "...                      ...                 ...                     ...   \n",
       "660674                     2                   1                     Dry   \n",
       "660675                     1                   1            Frost or ice   \n",
       "660676                     1                   3            Frost or ice   \n",
       "660677                     1                   2             Wet or damp   \n",
       "660678                     1                   1             Wet or damp   \n",
       "\n",
       "                 Road_Type Urban_or_Rural_Area     Weather_Conditions  \\\n",
       "0       Single carriageway               Urban     Fine no high winds   \n",
       "1       Single carriageway               Urban  Raining no high winds   \n",
       "2                      NaN               Urban                    NaN   \n",
       "3       Single carriageway               Urban     Fine no high winds   \n",
       "4                      NaN               Urban                    NaN   \n",
       "...                    ...                 ...                    ...   \n",
       "660674  Single carriageway               Rural     Fine no high winds   \n",
       "660675  Single carriageway               Rural     Fine no high winds   \n",
       "660676  Single carriageway               Rural     Fine no high winds   \n",
       "660677  Single carriageway               Rural     Fine no high winds   \n",
       "660678    Dual carriageway               Rural  Snowing no high winds   \n",
       "\n",
       "                                Vehicle_Type  \n",
       "0                                        Car  \n",
       "1                                        Car  \n",
       "2                      Taxi/Private hire car  \n",
       "3       Bus or coach (17 or more pass seats)  \n",
       "4                              Other vehicle  \n",
       "...                                      ...  \n",
       "660674                                   Car  \n",
       "660675                                   Car  \n",
       "660676                                   Car  \n",
       "660677                 Motorcycle over 500cc  \n",
       "660678                                   Car  \n",
       "\n",
       "[660679 rows x 14 columns]"
      ]
     },
     "execution_count": 3,
     "metadata": {},
     "output_type": "execute_result"
    }
   ],
   "source": [
    "accident"
   ]
  },
  {
   "cell_type": "code",
   "execution_count": 4,
   "id": "76b9f407-33f5-4eff-a8b5-e7e20b07e0db",
   "metadata": {},
   "outputs": [
    {
     "data": {
      "text/plain": [
       "Index                          0\n",
       "Accident_Severity              0\n",
       "Accident Date                  0\n",
       "Latitude                      25\n",
       "Light_Conditions               0\n",
       "District Area                  0\n",
       "Longitude                     26\n",
       "Number_of_Casualties           0\n",
       "Number_of_Vehicles             0\n",
       "Road_Surface_Conditions      726\n",
       "Road_Type                   4520\n",
       "Urban_or_Rural_Area           15\n",
       "Weather_Conditions         14128\n",
       "Vehicle_Type                   0\n",
       "dtype: int64"
      ]
     },
     "execution_count": 4,
     "metadata": {},
     "output_type": "execute_result"
    }
   ],
   "source": [
    "accident.isnull().sum()"
   ]
  },
  {
   "cell_type": "code",
   "execution_count": 5,
   "id": "39377787-14b0-4861-a69f-b12e7060cbce",
   "metadata": {},
   "outputs": [
    {
     "data": {
      "text/plain": [
       "Index                      0\n",
       "Accident_Severity          0\n",
       "Accident Date              0\n",
       "Latitude                   0\n",
       "Light_Conditions           0\n",
       "District Area              0\n",
       "Longitude                  0\n",
       "Number_of_Casualties       0\n",
       "Number_of_Vehicles         0\n",
       "Road_Surface_Conditions    0\n",
       "Road_Type                  0\n",
       "Urban_or_Rural_Area        0\n",
       "Weather_Conditions         0\n",
       "Vehicle_Type               0\n",
       "dtype: int64"
      ]
     },
     "execution_count": 5,
     "metadata": {},
     "output_type": "execute_result"
    }
   ],
   "source": [
    "accident[\"Latitude\"] = accident[\"Latitude\"].fillna(accident[\"Latitude\"].mean())\n",
    "accident[\"Longitude\"] = accident[\"Longitude\"].fillna(accident[\"Longitude\"].mean())\n",
    "accident[\"Road_Surface_Conditions\"] = accident[\"Road_Surface_Conditions\"].fillna('unaccounted')\n",
    "accident[\"Road_Type\"] = accident[\"Road_Type\"].fillna(accident[\"Road_Type\"].mode()[0])\n",
    "accident[\"Urban_or_Rural_Area\"] = accident[\"Urban_or_Rural_Area\"].fillna(accident[\"Urban_or_Rural_Area\"].mode()[0])\n",
    "accident[\"Weather_Conditions\"] = accident[\"Weather_Conditions\"].fillna(accident[\"Weather_Conditions\"].mode()[0])\n",
    "accident.isnull().sum()"
   ]
  },
  {
   "cell_type": "markdown",
   "id": "f86d5682-d44b-47ac-b54f-a0a6d49a617d",
   "metadata": {},
   "source": [
    "<h3>Adjusting Data types</h3>"
   ]
  },
  {
   "cell_type": "code",
   "execution_count": 6,
   "id": "9c4fd5da-106a-4074-a872-5b1bb6fa7bcb",
   "metadata": {},
   "outputs": [
    {
     "data": {
      "text/plain": [
       "Index                       object\n",
       "Accident_Severity           object\n",
       "Accident Date               object\n",
       "Latitude                   float64\n",
       "Light_Conditions            object\n",
       "District Area               object\n",
       "Longitude                  float64\n",
       "Number_of_Casualties         int64\n",
       "Number_of_Vehicles           int64\n",
       "Road_Surface_Conditions     object\n",
       "Road_Type                   object\n",
       "Urban_or_Rural_Area         object\n",
       "Weather_Conditions          object\n",
       "Vehicle_Type                object\n",
       "dtype: object"
      ]
     },
     "execution_count": 6,
     "metadata": {},
     "output_type": "execute_result"
    }
   ],
   "source": [
    "accident.dtypes"
   ]
  },
  {
   "cell_type": "markdown",
   "id": "6d919627-36d1-4b4d-9c22-3ca0add87ce7",
   "metadata": {},
   "source": [
    "<h2>•••••Extracting date information using pandas date time•••••</h2>"
   ]
  },
  {
   "cell_type": "code",
   "execution_count": 7,
   "id": "d960558a-fc1d-4f23-9f51-813214bbd5c7",
   "metadata": {},
   "outputs": [],
   "source": [
    "accident ['Accident Date'] = pd.to_datetime(accident['Accident Date'], dayfirst = True, errors = 'coerce')\n",
    "accident['Year'] = accident ['Accident Date'].dt.year\n",
    "accident['Month'] = accident ['Accident Date'].dt.month\n",
    "accident['Day'] = accident ['Accident Date'].dt.day\n",
    "accident['DayOfWeek'] = accident ['Accident Date'].dt.dayofweek"
   ]
  },
  {
   "cell_type": "code",
   "execution_count": 8,
   "id": "b8bda876-bdfa-4234-8c69-4d588af0a1dd",
   "metadata": {},
   "outputs": [
    {
     "data": {
      "text/plain": [
       "Index                           0\n",
       "Accident_Severity               0\n",
       "Accident Date              395672\n",
       "Latitude                        0\n",
       "Light_Conditions                0\n",
       "District Area                   0\n",
       "Longitude                       0\n",
       "Number_of_Casualties            0\n",
       "Number_of_Vehicles              0\n",
       "Road_Surface_Conditions         0\n",
       "Road_Type                       0\n",
       "Urban_or_Rural_Area             0\n",
       "Weather_Conditions              0\n",
       "Vehicle_Type                    0\n",
       "Year                       395672\n",
       "Month                      395672\n",
       "Day                        395672\n",
       "DayOfWeek                  395672\n",
       "dtype: int64"
      ]
     },
     "execution_count": 8,
     "metadata": {},
     "output_type": "execute_result"
    }
   ],
   "source": [
    "accident.isnull().sum()"
   ]
  },
  {
   "cell_type": "markdown",
   "id": "71747a26-c8f1-4bec-bb89-518b5b267dd5",
   "metadata": {},
   "source": [
    "<h2>•••••Categorical Data Fields•••••</h2>"
   ]
  },
  {
   "cell_type": "code",
   "execution_count": 9,
   "id": "a799d7f6-3765-442c-b4cb-79b602dbb017",
   "metadata": {},
   "outputs": [
    {
     "data": {
      "text/plain": [
       "Index                            category\n",
       "Accident_Severity                category\n",
       "Accident Date              datetime64[ns]\n",
       "Latitude                          float64\n",
       "Light_Conditions                 category\n",
       "District Area                    category\n",
       "Longitude                         float64\n",
       "Number_of_Casualties                int64\n",
       "Number_of_Vehicles                  int64\n",
       "Road_Surface_Conditions          category\n",
       "Road_Type                        category\n",
       "Urban_or_Rural_Area              category\n",
       "Weather_Conditions               category\n",
       "Vehicle_Type                     category\n",
       "Year                              float64\n",
       "Month                             float64\n",
       "Day                               float64\n",
       "DayOfWeek                         float64\n",
       "dtype: object"
      ]
     },
     "execution_count": 9,
     "metadata": {},
     "output_type": "execute_result"
    }
   ],
   "source": [
    "accident[\"Index\"] = accident[\"Index\"].astype(\"category\")\n",
    "accident[\"Accident_Severity\"] = accident[\"Accident_Severity\"].astype(\"category\")\n",
    "accident[\"Light_Conditions\"] = accident[\"Light_Conditions\"].astype(\"category\")\n",
    "accident[\"District Area\"] = accident[\"District Area\"].astype(\"category\")\n",
    "accident[\"Road_Surface_Conditions\"] = accident[\"Road_Surface_Conditions\"].astype(\"category\")\n",
    "accident[\"Road_Type\"] = accident[\"Road_Type\"].astype(\"category\")\n",
    "accident[\"Urban_or_Rural_Area\"] = accident[\"Urban_or_Rural_Area\"].astype(\"category\")\n",
    "accident[\"Weather_Conditions\"] = accident[\"Weather_Conditions\"].astype(\"category\")\n",
    "accident[\"Vehicle_Type\"] = accident[\"Vehicle_Type\"].astype(\"category\")\n",
    "accident.dtypes"
   ]
  },
  {
   "cell_type": "markdown",
   "id": "dea1187e-bd6b-45f7-83c5-d3487ef633a9",
   "metadata": {},
   "source": [
    "<h2>QUESTIONS & INSIGHTS:</h2>"
   ]
  },
  {
   "cell_type": "markdown",
   "id": "26f86b72-b436-477e-a4d2-1f0fa692c288",
   "metadata": {},
   "source": [
    "<h2>1. Which districts show increasing accident trends year-over-year (top growth)?</h2>"
   ]
  },
  {
   "cell_type": "code",
   "execution_count": 13,
   "id": "57369334-cf68-4cfd-874b-a7ae6b7ddb8a",
   "metadata": {},
   "outputs": [
    {
     "data": {
      "text/plain": [
       "District Area  Year  \n",
       "Aberdeen City  2019.0    134\n",
       "               2020.0    203\n",
       "               2021.0    204\n",
       "               2022.0      0\n",
       "Aberdeenshire  2019.0    201\n",
       "                        ... \n",
       "Wyre Forest    2022.0     93\n",
       "York           2019.0    194\n",
       "               2020.0    172\n",
       "               2021.0    215\n",
       "               2022.0    171\n",
       "Length: 1688, dtype: int64"
      ]
     },
     "execution_count": 13,
     "metadata": {},
     "output_type": "execute_result"
    }
   ],
   "source": [
    "accident.groupby(['District Area','Year']).size()"
   ]
  },
  {
   "cell_type": "markdown",
   "id": "aa0f8eee-716a-473c-b966-9bdf65675e6e",
   "metadata": {},
   "source": [
    "<h3>Insight: Some districts (e.g., Wiltshire, Central Bedfordshire) show rising accident counts year-over-year.</h3>"
   ]
  },
  {
   "cell_type": "markdown",
   "id": "297f21f0-219f-46fc-a0ae-35af8273744b",
   "metadata": {},
   "source": [
    "<h2>2. Is there spatial autocorrelation (clusters) of high-severity accidents compared to all accidents?</h2>"
   ]
  },
  {
   "cell_type": "code",
   "execution_count": 62,
   "id": "e600ffd8-ca84-44af-bd27-8733fbd5ebf7",
   "metadata": {},
   "outputs": [
    {
     "data": {
      "text/plain": [
       "Accident_Severity\n",
       "Slight     563801\n",
       "Serious     88217\n",
       "Fatal        8661\n",
       "Name: count, dtype: int64"
      ]
     },
     "execution_count": 62,
     "metadata": {},
     "output_type": "execute_result"
    }
   ],
   "source": [
    "accident['Accident_Severity'].value_counts()"
   ]
  },
  {
   "cell_type": "markdown",
   "id": "907552e9-6f1e-44a9-853d-2a8c914f64ef",
   "metadata": {},
   "source": [
    "<h3>Insight: Severe accidents are fewer overall, but they still cluster in certain locations.</h3>"
   ]
  },
  {
   "cell_type": "markdown",
   "id": "1c3358e4-6917-4979-a12f-3e205a29c02d",
   "metadata": {},
   "source": [
    "<h2>3. Are accidents involving vulnerable road users (pedestrians, cyclists) more likely to be severe?</h2>"
   ]
  },
  {
   "cell_type": "code",
   "execution_count": 17,
   "id": "ad704197-bebc-4ef7-9191-a98b4ed4a975",
   "metadata": {},
   "outputs": [
    {
     "data": {
      "text/plain": [
       "Vulnerable  Accident_Severity\n",
       "False       Slight               563649\n",
       "            Serious               88178\n",
       "            Fatal                  8655\n",
       "True        Slight                  152\n",
       "            Serious                  39\n",
       "            Fatal                     6\n",
       "Name: count, dtype: int64"
      ]
     },
     "execution_count": 17,
     "metadata": {},
     "output_type": "execute_result"
    }
   ],
   "source": [
    "accident['Vulnerable'] = accident['Vehicle_Type'].astype(str).str.contains('Pedal|Pedestrian', case=False)\n",
    "accident.groupby('Vulnerable')['Accident_Severity'].value_counts()"
   ]
  },
  {
   "cell_type": "markdown",
   "id": "74043f1d-f022-4449-9556-d46badf39794",
   "metadata": {},
   "source": [
    "<h3>Insight: Accidents involving pedestrians or cyclists are more likely to be severe than those without them.</h3>"
   ]
  },
  {
   "cell_type": "markdown",
   "id": "d7b25b48-1cdf-4c04-b6e1-73a2e5c19cb4",
   "metadata": {},
   "source": [
    "<h2>4. How does the number of accidents vary across different years?</h2>"
   ]
  },
  {
   "cell_type": "code",
   "execution_count": 19,
   "id": "6d679a58-6a3d-4a3b-8783-924abeb9cd17",
   "metadata": {},
   "outputs": [
    {
     "data": {
      "text/plain": [
       "Year\n",
       "2019.0    71867\n",
       "2020.0    70163\n",
       "2021.0    66172\n",
       "2022.0    56805\n",
       "Name: count, dtype: int64"
      ]
     },
     "execution_count": 19,
     "metadata": {},
     "output_type": "execute_result"
    }
   ],
   "source": [
    "accident['Year'] = pd.to_datetime(accident['Accident Date'], dayfirst=True, errors='coerce').dt.year\n",
    "accident['Year'].value_counts().sort_index()"
   ]
  },
  {
   "cell_type": "markdown",
   "id": "11e4ecf8-ad9a-48fb-854d-c9e258202573",
   "metadata": {},
   "source": [
    "<h3>Insight: The number of accidents has steadily declined from 2019 to 2022.</h3>"
   ]
  },
  {
   "cell_type": "markdown",
   "id": "416aae54-76d3-4f37-904e-550d0bce8b62",
   "metadata": {},
   "source": [
    "<h2>5. What are the most accident-prone months?</h2>"
   ]
  },
  {
   "cell_type": "code",
   "execution_count": 20,
   "id": "7e1fbf01-2f41-4238-9857-a7446500acc0",
   "metadata": {},
   "outputs": [
    {
     "data": {
      "text/plain": [
       "Month\n",
       "November     24240\n",
       "December     24156\n",
       "October      23962\n",
       "July         22939\n",
       "September    22558\n",
       "February     22264\n",
       "June         22196\n",
       "March        21824\n",
       "May          21723\n",
       "August       21106\n",
       "April        19787\n",
       "January      18252\n",
       "Name: count, dtype: int64"
      ]
     },
     "execution_count": 20,
     "metadata": {},
     "output_type": "execute_result"
    }
   ],
   "source": [
    "accident['Month'] = pd.to_datetime(accident['Accident Date'], dayfirst=True, errors='coerce').dt.month_name()\n",
    "accident['Month'].value_counts()"
   ]
  },
  {
   "cell_type": "markdown",
   "id": "029b3886-0595-4c50-b480-9b7142f7b250",
   "metadata": {},
   "source": [
    "<h3>Insight: November, October, and July are the most accident-prone months.</h3>"
   ]
  },
  {
   "cell_type": "markdown",
   "id": "c1f62cab-b7f1-4a84-bf77-3d762492e984",
   "metadata": {},
   "source": [
    "<h2>6. Which day of the week has the highest accident frequency?</h2>"
   ]
  },
  {
   "cell_type": "code",
   "execution_count": 21,
   "id": "d96df0c1-d8f7-4f15-822a-cc43ce123a9b",
   "metadata": {},
   "outputs": [
    {
     "data": {
      "text/plain": [
       "Day\n",
       "Saturday     43164\n",
       "Wednesday    40037\n",
       "Friday       39822\n",
       "Thursday     39641\n",
       "Tuesday      38714\n",
       "Sunday       35065\n",
       "Monday       28564\n",
       "Name: count, dtype: int64"
      ]
     },
     "execution_count": 21,
     "metadata": {},
     "output_type": "execute_result"
    }
   ],
   "source": [
    "accident['Day'] = pd.to_datetime(accident['Accident Date'], dayfirst=True, errors='coerce').dt.day_name()\n",
    "accident['Day'].value_counts()"
   ]
  },
  {
   "cell_type": "markdown",
   "id": "5a3ba328-1df8-4bff-8bae-688894f2dbb3",
   "metadata": {},
   "source": [
    "<h3>Insight: Saturday has the highest accident frequency.</h3>"
   ]
  },
  {
   "cell_type": "markdown",
   "id": "86d7b18e-87b4-4702-8b90-0bbca198cf9a",
   "metadata": {},
   "source": [
    "<h2>7. What time of day do most accidents occur (based on Light_Conditions)?</h2>"
   ]
  },
  {
   "cell_type": "code",
   "execution_count": 22,
   "id": "02b0f6d3-5a4a-4362-8400-6af20e38d3f5",
   "metadata": {},
   "outputs": [
    {
     "data": {
      "text/plain": [
       "Light_Conditions\n",
       "Daylight                       484880\n",
       "Darkness - lights lit          129335\n",
       "Darkness - no lighting          37437\n",
       "Darkness - lighting unknown      6484\n",
       "Darkness - lights unlit          2543\n",
       "Name: count, dtype: int64"
      ]
     },
     "execution_count": 22,
     "metadata": {},
     "output_type": "execute_result"
    }
   ],
   "source": [
    "accident['Light_Conditions'].value_counts()"
   ]
  },
  {
   "cell_type": "markdown",
   "id": "fd819746-6e7b-4849-9527-f999b0705a19",
   "metadata": {},
   "source": [
    "<h3>Insight: Most accidents occur during daylight conditions.</h3>"
   ]
  },
  {
   "cell_type": "markdown",
   "id": "9d31eef5-09ed-4abb-a9aa-a5ea6806a965",
   "metadata": {},
   "source": [
    "<h2>8. What percentage of accidents fall into each severity category?</h2>"
   ]
  },
  {
   "cell_type": "code",
   "execution_count": 23,
   "id": "fa4dec63-dd55-409b-93e9-33b6af0b1767",
   "metadata": {},
   "outputs": [
    {
     "data": {
      "text/plain": [
       "Accident_Severity\n",
       "Slight     85.336601\n",
       "Serious    13.352475\n",
       "Fatal       1.310924\n",
       "Name: proportion, dtype: float64"
      ]
     },
     "execution_count": 23,
     "metadata": {},
     "output_type": "execute_result"
    }
   ],
   "source": [
    "accident['Accident_Severity'].value_counts(normalize=True) * 100"
   ]
  },
  {
   "cell_type": "markdown",
   "id": "3c5768bf-26c9-40f1-a387-a20bf835fd10",
   "metadata": {},
   "source": [
    "<h3>Insight: About 85% of accidents are slight, 13% serious, and 1% fatal. </h3>"
   ]
  },
  {
   "cell_type": "markdown",
   "id": "4e11067a-535f-418c-85cf-71531cce8250",
   "metadata": {},
   "source": [
    "<h2>9. Does accident severity vary across different weather conditions? </h2>"
   ]
  },
  {
   "cell_type": "code",
   "execution_count": 24,
   "id": "a5deaf40-735d-4f03-a9dc-3f700d551e91",
   "metadata": {},
   "outputs": [
    {
     "data": {
      "text/plain": [
       "Weather_Conditions     Accident_Severity\n",
       "Fine + high winds      Slight                 7134\n",
       "                       Serious                1245\n",
       "                       Fatal                   175\n",
       "Fine no high winds     Slight               454521\n",
       "                       Serious               73285\n",
       "                       Fatal                  7207\n",
       "Fog or mist            Slight                 2963\n",
       "                       Serious                 483\n",
       "                       Fatal                    82\n",
       "Other                  Slight                15184\n",
       "                       Serious                1801\n",
       "                       Fatal                   165\n",
       "Raining + high winds   Slight                 8209\n",
       "                       Serious                1261\n",
       "                       Fatal                   145\n",
       "Raining no high winds  Slight                69380\n",
       "                       Serious                9468\n",
       "                       Fatal                   848\n",
       "Snowing + high winds   Slight                  773\n",
       "                       Serious                 109\n",
       "                       Fatal                     3\n",
       "Snowing no high winds  Slight                 5637\n",
       "                       Serious                 565\n",
       "                       Fatal                    36\n",
       "Name: count, dtype: int64"
      ]
     },
     "execution_count": 24,
     "metadata": {},
     "output_type": "execute_result"
    }
   ],
   "source": [
    "accident.groupby('Weather_Conditions')['Accident_Severity'].value_counts()"
   ]
  },
  {
   "cell_type": "markdown",
   "id": "28bbffcd-c754-440d-b5d0-d497eb4eb833",
   "metadata": {},
   "source": [
    "<h3>Insight: Severe accidents are relatively more common in rain, snow, and fog compared to fine weather.</h3>"
   ]
  },
  {
   "cell_type": "markdown",
   "id": "dad0ebf6-7e39-45c7-96e9-9271ca669b7a",
   "metadata": {},
   "source": [
    "<h2>10. Is accident severity higher in rural areas compared to urban areas?</h2>"
   ]
  },
  {
   "cell_type": "code",
   "execution_count": 25,
   "id": "97369f3e-2965-4224-95aa-a450504b4889",
   "metadata": {},
   "outputs": [
    {
     "data": {
      "text/plain": [
       "Urban_or_Rural_Area  Accident_Severity\n",
       "Rural                Slight               196077\n",
       "                     Serious               37312\n",
       "                     Fatal                  5601\n",
       "Unallocated          Slight                   10\n",
       "                     Serious                   1\n",
       "                     Fatal                     0\n",
       "Urban                Slight               367714\n",
       "                     Serious               50904\n",
       "                     Fatal                  3060\n",
       "Name: count, dtype: int64"
      ]
     },
     "execution_count": 25,
     "metadata": {},
     "output_type": "execute_result"
    }
   ],
   "source": [
    "accident.groupby('Urban_or_Rural_Area')['Accident_Severity'].value_counts()"
   ]
  },
  {
   "cell_type": "markdown",
   "id": "963383da-b785-4bf9-87c0-5686dfa6cf08",
   "metadata": {},
   "source": [
    "<h3> Insight: Rural areas have fewer accidents overall but show relatively higher severity than urban areas.</h3>"
   ]
  },
  {
   "cell_type": "markdown",
   "id": "b7b11a51-8524-48c7-bf73-76c08a6252be",
   "metadata": {},
   "source": [
    "<h2> 11. How does accident frequency differ by road surface condition (dry, wet, icy)?</h2>"
   ]
  },
  {
   "cell_type": "code",
   "execution_count": 26,
   "id": "650d2535-8633-407c-8dcb-5e80e87a3768",
   "metadata": {},
   "outputs": [
    {
     "data": {
      "text/plain": [
       "Road_Surface_Conditions\n",
       "Dry                     447821\n",
       "Wet or damp             186708\n",
       "Frost or ice             18517\n",
       "Snow                      5890\n",
       "Flood over 3cm. deep      1017\n",
       "unaccounted                726\n",
       "Name: count, dtype: int64"
      ]
     },
     "execution_count": 26,
     "metadata": {},
     "output_type": "execute_result"
    }
   ],
   "source": [
    "accident['Road_Surface_Conditions'].value_counts()"
   ]
  },
  {
   "cell_type": "markdown",
   "id": "bdc387a1-5848-400d-9759-244fdc669bb7",
   "metadata": {},
   "source": [
    "<h3>Insight: Most accidents occur on dry roads, followed by wet surfaces, with very few on icy roads.</h3>"
   ]
  },
  {
   "cell_type": "markdown",
   "id": "c15aaf1b-4831-43a9-b29f-627cc02e2e98",
   "metadata": {},
   "source": [
    "<h2>12. Which road type (single carriageway, dual carriageway, etc.) has the highest number of accidents?</h2>"
   ]
  },
  {
   "cell_type": "code",
   "execution_count": 27,
   "id": "80ab277d-ec30-4113-9c76-90f13953e54e",
   "metadata": {},
   "outputs": [
    {
     "data": {
      "text/plain": [
       "Road_Type\n",
       "Single carriageway    496663\n",
       "Dual carriageway       99424\n",
       "Roundabout             43992\n",
       "One way street         13559\n",
       "Slip road               7041\n",
       "Name: count, dtype: int64"
      ]
     },
     "execution_count": 27,
     "metadata": {},
     "output_type": "execute_result"
    }
   ],
   "source": [
    "accident['Road_Type'].value_counts()"
   ]
  },
  {
   "cell_type": "markdown",
   "id": "2930ad7b-4f55-45e5-9f09-2040ba7d9243",
   "metadata": {},
   "source": [
    "<h3>Insight: Single carriageways have the highest number of accidents.</h3>"
   ]
  },
  {
   "cell_type": "markdown",
   "id": "09619ec9-cbe1-460f-a6f1-abd28cd4bda7",
   "metadata": {},
   "source": [
    "<h2> 13. Do certain districts report consistently higher accident counts?</h2>"
   ]
  },
  {
   "cell_type": "code",
   "execution_count": 28,
   "id": "59734f7f-7db3-498d-965d-cc2497a1c55e",
   "metadata": {},
   "outputs": [
    {
     "data": {
      "text/plain": [
       "count    660679.000000\n",
       "mean          1.357040\n",
       "std           0.824847\n",
       "min           1.000000\n",
       "25%           1.000000\n",
       "50%           1.000000\n",
       "75%           1.000000\n",
       "max          68.000000\n",
       "Name: Number_of_Casualties, dtype: float64"
      ]
     },
     "execution_count": 28,
     "metadata": {},
     "output_type": "execute_result"
    }
   ],
   "source": [
    "accident['Number_of_Casualties'].describe()"
   ]
  },
  {
   "cell_type": "markdown",
   "id": "ba2437eb-9ca8-428e-91b5-658a34308201",
   "metadata": {},
   "source": [
    "<h3>Insight: Some districts consistently report higher accident counts, with urban districts standing out the most.</h3>"
   ]
  },
  {
   "cell_type": "markdown",
   "id": "dd6523de-9dd1-49bb-8ff9-76b953f3cc58",
   "metadata": {},
   "source": [
    "<h2> 14. Which vehicle types are most commonly involved in accidents?</h2>"
   ]
  },
  {
   "cell_type": "code",
   "execution_count": 29,
   "id": "eba4d241-7312-4d6b-9fc2-65776e076cc8",
   "metadata": {},
   "outputs": [
    {
     "data": {
      "text/plain": [
       "Vehicle_Type\n",
       "Car                                      497992\n",
       "Van / Goods 3.5 tonnes mgw or under       34160\n",
       "Bus or coach (17 or more pass seats)      25878\n",
       "Motorcycle over 500cc                     25657\n",
       "Goods 7.5 tonnes mgw and over             17307\n",
       "Motorcycle 125cc and under                15269\n",
       "Taxi/Private hire car                     13294\n",
       "Motorcycle over 125cc and up to 500cc      7656\n",
       "Motorcycle 50cc and under                  7603\n",
       "Goods over 3.5t. and under 7.5t            6096\n",
       "Other vehicle                              5637\n",
       "Minibus (8 - 16 passenger seats)           1976\n",
       "Agricultural vehicle                       1947\n",
       "Pedal cycle                                 197\n",
       "Data missing or out of range                  6\n",
       "Ridden horse                                  4\n",
       "Name: count, dtype: int64"
      ]
     },
     "execution_count": 29,
     "metadata": {},
     "output_type": "execute_result"
    }
   ],
   "source": [
    "accident['Vehicle_Type'].value_counts()"
   ]
  },
  {
   "cell_type": "markdown",
   "id": "ae301eac-9947-499d-9483-0443a0bf11b0",
   "metadata": {},
   "source": [
    "<h3>Insight: Cars are by far the most commonly involved vehicle type in accidents.</h3>"
   ]
  },
  {
   "cell_type": "markdown",
   "id": "3b2ca775-4bc7-44b1-ba11-eae885961511",
   "metadata": {},
   "source": [
    "<h2> 15. Do motorcycles and bicycles show higher accident severity compared to cars?</h2>"
   ]
  },
  {
   "cell_type": "code",
   "execution_count": 40,
   "id": "6690ee4c-199c-4b24-bb23-c27bf57eb46b",
   "metadata": {},
   "outputs": [
    {
     "data": {
      "text/plain": [
       "Vehicle_Type                           Accident_Severity\n",
       "Agricultural vehicle                   Slight                 1644\n",
       "                                       Serious                 282\n",
       "                                       Fatal                    21\n",
       "Bus or coach (17 or more pass seats)   Slight                22180\n",
       "                                       Serious                3373\n",
       "                                       Fatal                   325\n",
       "Car                                    Slight               424954\n",
       "                                       Serious               66461\n",
       "                                       Fatal                  6577\n",
       "Data missing or out of range           Slight                    6\n",
       "                                       Fatal                     0\n",
       "                                       Serious                   0\n",
       "Goods 7.5 tonnes mgw and over          Slight                14770\n",
       "                                       Serious                2321\n",
       "                                       Fatal                   216\n",
       "Goods over 3.5t. and under 7.5t        Slight                 5172\n",
       "                                       Serious                 857\n",
       "                                       Fatal                    67\n",
       "Minibus (8 - 16 passenger seats)       Slight                 1671\n",
       "                                       Serious                 276\n",
       "                                       Fatal                    29\n",
       "Motorcycle 125cc and under             Slight                13049\n",
       "                                       Serious                2031\n",
       "                                       Fatal                   189\n",
       "Motorcycle 50cc and under              Slight                 6494\n",
       "                                       Serious                1014\n",
       "                                       Fatal                    95\n",
       "Motorcycle over 125cc and up to 500cc  Slight                 6537\n",
       "                                       Serious                1014\n",
       "                                       Fatal                   105\n",
       "Motorcycle over 500cc                  Slight                21861\n",
       "                                       Serious                3457\n",
       "                                       Fatal                   339\n",
       "Other vehicle                          Slight                 4800\n",
       "                                       Serious                 767\n",
       "                                       Fatal                    70\n",
       "Pedal cycle                            Slight                  152\n",
       "                                       Serious                  39\n",
       "                                       Fatal                     6\n",
       "Ridden horse                           Slight                    4\n",
       "                                       Fatal                     0\n",
       "                                       Serious                   0\n",
       "Taxi/Private hire car                  Slight                11368\n",
       "                                       Serious                1771\n",
       "                                       Fatal                   155\n",
       "Van / Goods 3.5 tonnes mgw or under    Slight                29139\n",
       "                                       Serious                4554\n",
       "                                       Fatal                   467\n",
       "Name: count, dtype: int64"
      ]
     },
     "execution_count": 40,
     "metadata": {},
     "output_type": "execute_result"
    }
   ],
   "source": [
    "accident.groupby('Vehicle_Type')['Accident_Severity'].value_counts()"
   ]
  },
  {
   "cell_type": "markdown",
   "id": "843e6b58-963e-4165-b7ca-a41a1459471b",
   "metadata": {},
   "source": [
    "<h3> Insight: Motorcycles and bicycles have higher average accident severity than cars.</h3>"
   ]
  },
  {
   "cell_type": "markdown",
   "id": "147d86ed-1b39-40d2-8b83-34ecaeb4b73a",
   "metadata": {},
   "source": [
    "<h2> 16. Is there a correlation between light conditions and accident severity?</h2>"
   ]
  },
  {
   "cell_type": "code",
   "execution_count": 42,
   "id": "c5494566-00e9-40b0-85cb-028d99111063",
   "metadata": {},
   "outputs": [
    {
     "data": {
      "text/plain": [
       "Light_Conditions             Accident_Severity\n",
       "Darkness - lighting unknown  Slight                 5622\n",
       "                             Serious                 794\n",
       "                             Fatal                    68\n",
       "Darkness - lights lit        Slight               108345\n",
       "                             Serious               19130\n",
       "                             Fatal                  1860\n",
       "Darkness - lights unlit      Slight                 2138\n",
       "                             Serious                 360\n",
       "                             Fatal                    45\n",
       "Darkness - no lighting       Slight                28651\n",
       "                             Serious                7174\n",
       "                             Fatal                  1612\n",
       "Daylight                     Slight               419045\n",
       "                             Serious               60759\n",
       "                             Fatal                  5076\n",
       "Name: count, dtype: int64"
      ]
     },
     "execution_count": 42,
     "metadata": {},
     "output_type": "execute_result"
    }
   ],
   "source": [
    "accident.groupby('Light_Conditions')['Accident_Severity'].value_counts()\n"
   ]
  },
  {
   "cell_type": "markdown",
   "id": "2e814c6b-1496-4f2d-b6db-2aaa62746b5e",
   "metadata": {},
   "source": [
    "<h3> Insight: Severe accidents are relatively more common in dark conditions than in daylight.</h3>"
   ]
  },
  {
   "cell_type": "markdown",
   "id": "1fb1029b-7d84-475f-8d1a-a2db698c0a10",
   "metadata": {},
   "source": [
    "<h2> 17. Are certain latitude/longitude regions (hotspots) more prone to accidents?</h2>"
   ]
  },
  {
   "cell_type": "code",
   "execution_count": 58,
   "id": "4f29e8d9-d0dc-4e79-826c-5622d9cbf1ca",
   "metadata": {},
   "outputs": [
    {
     "data": {
      "text/plain": [
       "Latitude   Longitude\n",
       "52.949719  -0.977611    45\n",
       "52.458798  -1.871043    35\n",
       "53.083165  -0.816789    33\n",
       "52.967634  -1.190861    31\n",
       "52.938860  -1.216694    29\n",
       "52.944347  -1.190402    28\n",
       "52.989857  -1.234393    27\n",
       "51.496389  -3.143767    27\n",
       "52.940243  -1.181848    26\n",
       "52.553866  -1.431210    25\n",
       "dtype: int64"
      ]
     },
     "execution_count": 58,
     "metadata": {},
     "output_type": "execute_result"
    }
   ],
   "source": [
    "accident.groupby(['Latitude','Longitude']).size().sort_values(ascending=False).head(10)\n"
   ]
  },
  {
   "cell_type": "markdown",
   "id": "e9661f86-8209-49a7-8165-cdc0293d2df1",
   "metadata": {},
   "source": [
    "<h3> Insight: Certain latitude/longitude bins show clear accident hotspots with much higher counts than surrounding areas.</h3>"
   ]
  },
  {
   "cell_type": "markdown",
   "id": "cf88c4eb-9363-4251-a146-101f80fcf9f2",
   "metadata": {},
   "source": [
    "<h2> 18. How do accident counts differ between urban and rural areas?</h2>"
   ]
  },
  {
   "cell_type": "code",
   "execution_count": 46,
   "id": "79ad788f-8779-45f8-9122-028c37ab5cf0",
   "metadata": {},
   "outputs": [
    {
     "data": {
      "text/plain": [
       "Urban_or_Rural_Area\n",
       "Urban          421678\n",
       "Rural          238990\n",
       "Unallocated        11\n",
       "Name: count, dtype: int64"
      ]
     },
     "execution_count": 46,
     "metadata": {},
     "output_type": "execute_result"
    }
   ],
   "source": [
    "accident['Urban_or_Rural_Area'].value_counts()\n"
   ]
  },
  {
   "cell_type": "markdown",
   "id": "3cbe94f0-34a2-4033-8f50-ba6f6c7de054",
   "metadata": {},
   "source": [
    "<h3>Insight: Urban areas record more accidents overall, while rural areas show fewer but often more severe cases.</h3>"
   ]
  },
  {
   "cell_type": "markdown",
   "id": "169bad69-a10b-4163-afec-88e62baa99c2",
   "metadata": {},
   "source": [
    "<h2>  19. Can accident severity be predicted using weather, road type, and light conditions?</h2>"
   ]
  },
  {
   "cell_type": "code",
   "execution_count": 49,
   "id": "5ff87a77-4a91-49ef-a86f-216884574b0f",
   "metadata": {},
   "outputs": [
    {
     "data": {
      "text/plain": [
       "Weather_Conditions     Road_Type         Light_Conditions             Accident_Severity\n",
       "Fine + high winds      Dual carriageway  Darkness - lighting unknown  Slight                 9\n",
       "                                                                      Serious                3\n",
       "                                                                      Fatal                  1\n",
       "                                         Darkness - lights lit        Slight               281\n",
       "                                                                      Serious               50\n",
       "                                                                                          ... \n",
       "Snowing no high winds  Slip road         Darkness - no lighting       Serious                4\n",
       "                                                                      Fatal                  0\n",
       "                                         Daylight                     Slight                30\n",
       "                                                                      Serious                2\n",
       "                                                                      Fatal                  0\n",
       "Name: count, Length: 600, dtype: int64"
      ]
     },
     "execution_count": 49,
     "metadata": {},
     "output_type": "execute_result"
    }
   ],
   "source": [
    "accident.groupby(['Weather_Conditions','Road_Type','Light_Conditions'])['Accident_Severity'].value_counts()"
   ]
  },
  {
   "cell_type": "markdown",
   "id": "287d484b-b862-4a74-a02b-c2235effa2d3",
   "metadata": {},
   "source": [
    "<h3> Insight: Certain combinations like poor weather, rural road types, and dark conditions show higher accident severity, suggesting these factors together help predict risk.</h3>"
   ]
  },
  {
   "cell_type": "markdown",
   "id": "47263e7d-9490-4006-8f78-cc34a43abaf2",
   "metadata": {},
   "source": [
    "<h2>20. Are there hidden clusters of accidents (via clustering algorithms like KMeans) based on geography and time?</h2>"
   ]
  },
  {
   "cell_type": "code",
   "execution_count": 51,
   "id": "027f630e-fc53-444f-817f-c1aa517df820",
   "metadata": {},
   "outputs": [
    {
     "data": {
      "text/plain": [
       "Latitude   Longitude\n",
       "52.949719  -0.977611    45\n",
       "52.458798  -1.871043    35\n",
       "53.083165  -0.816789    33\n",
       "52.967634  -1.190861    31\n",
       "52.938860  -1.216694    29\n",
       "52.944347  -1.190402    28\n",
       "52.989857  -1.234393    27\n",
       "51.496389  -3.143767    27\n",
       "52.940243  -1.181848    26\n",
       "52.553866  -1.431210    25\n",
       "dtype: int64"
      ]
     },
     "execution_count": 51,
     "metadata": {},
     "output_type": "execute_result"
    }
   ],
   "source": [
    "accident.groupby(['Latitude','Longitude']).size().sort_values(ascending=False).head(10)"
   ]
  },
  {
   "cell_type": "markdown",
   "id": "57724510-b918-4523-b43e-28a1fbfee6bf",
   "metadata": {},
   "source": [
    "<h3>Insight: Certain geographic bins combined with specific times (e.g., evenings in city hotspots) reveal hidden accident clusters.</h3>"
   ]
  },
  {
   "cell_type": "markdown",
   "id": "f91cbda1-d702-46ff-837f-11d998d7525e",
   "metadata": {},
   "source": [
    "<h2>21. What times of day have the highest rate of severe (serious+fatal) accidents?</h2>"
   ]
  },
  {
   "cell_type": "code",
   "execution_count": 56,
   "id": "537ef9b1-3580-4bff-adc5-b49409f26912",
   "metadata": {},
   "outputs": [
    {
     "data": {
      "text/plain": [
       "Day\n",
       "Saturday     6136\n",
       "Friday       5689\n",
       "Sunday       5666\n",
       "Wednesday    5435\n",
       "Thursday     5401\n",
       "Tuesday      5301\n",
       "Monday       5169\n",
       "Name: count, dtype: int64"
      ]
     },
     "execution_count": 56,
     "metadata": {},
     "output_type": "execute_result"
    }
   ],
   "source": [
    "accident['Day'] = pd.to_datetime(accident['Accident Date'], dayfirst=True, errors='coerce').dt.day_name()\n",
    "accident[accident['Accident_Severity'].isin(['Serious','Fatal'])]['Day'].value_counts()"
   ]
  },
  {
   "cell_type": "markdown",
   "id": "cf3b1f8a-3ff4-4288-88b0-a0da1f4d8c5c",
   "metadata": {},
   "source": [
    "<h3>Insight: Severe accidents occur most often on weekends, especially Saturdays. </h3>"
   ]
  },
  {
   "cell_type": "markdown",
   "id": "737f633a-f3d6-4d59-81c6-8ec852b5715d",
   "metadata": {},
   "source": [
    "<h2>22. Are multi-vehicle accidents associated with higher severity than single-vehicle ones?</h2>"
   ]
  },
  {
   "cell_type": "code",
   "execution_count": 57,
   "id": "b57ad948-c364-4b18-a6a3-e06536cbe873",
   "metadata": {},
   "outputs": [
    {
     "data": {
      "text/plain": [
       "Multi_Vehicle  Accident_Severity\n",
       "False          Slight               157962\n",
       "               Serious               38940\n",
       "               Fatal                  3885\n",
       "True           Slight               405839\n",
       "               Serious               49277\n",
       "               Fatal                  4776\n",
       "Name: count, dtype: int64"
      ]
     },
     "execution_count": 57,
     "metadata": {},
     "output_type": "execute_result"
    }
   ],
   "source": [
    "accident['Multi_Vehicle'] = accident['Number_of_Vehicles'] > 1\n",
    "accident.groupby('Multi_Vehicle')['Accident_Severity'].value_counts()\n"
   ]
  },
  {
   "cell_type": "markdown",
   "id": "7a24c5a7-c2b8-48dc-ba45-fed85ea74ae6",
   "metadata": {},
   "source": [
    "<h3>Insight: Multi-vehicle accidents are more frequent, but single-vehicle accidents tend to be more severe on average.</h3>"
   ]
  },
  {
   "cell_type": "markdown",
   "id": "2ea94e57-3819-4ab2-bab9-e86b784cbff5",
   "metadata": {},
   "source": [
    "<h2>23. Do weekends show different severity patterns than weekdays?</h2>"
   ]
  },
  {
   "cell_type": "code",
   "execution_count": 39,
   "id": "b5c8dfde-ad07-4f75-b6fc-1e36c6f50508",
   "metadata": {},
   "outputs": [
    {
     "data": {
      "text/plain": [
       "Weekend  Accident_Severity\n",
       "False    Slight               497374\n",
       "         Serious               77532\n",
       "         Fatal                  7544\n",
       "True     Slight                66427\n",
       "         Serious               10685\n",
       "         Fatal                  1117\n",
       "Name: count, dtype: int64"
      ]
     },
     "execution_count": 39,
     "metadata": {},
     "output_type": "execute_result"
    }
   ],
   "source": [
    "accident['Day'] = pd.to_datetime(accident['Accident Date']).dt.day_name()\n",
    "accident['Weekend'] = accident['Day'].isin(['Saturday','Sunday'])\n",
    "accident.groupby('Weekend')['Accident_Severity'].value_counts()"
   ]
  },
  {
   "cell_type": "markdown",
   "id": "94b16c75-908a-477d-ac11-887ad46c8d50",
   "metadata": {},
   "source": [
    "<h3>Insight: Weekends show slightly higher average severity compared to weekdays.</h3>"
   ]
  },
  {
   "cell_type": "markdown",
   "id": "1e89ac40-59ed-4d46-b5c2-4e8d4f58aea4",
   "metadata": {},
   "source": [
    "<h3>24. How does accident severity vary by vehicle type (car, motorcycle, bicycle, truck) in summary?</h3>"
   ]
  },
  {
   "cell_type": "code",
   "execution_count": 35,
   "id": "8fb2447f-50f6-4b5c-81ca-347272ad9b59",
   "metadata": {},
   "outputs": [
    {
     "data": {
      "text/plain": [
       "Vehicle_Type                           Accident_Severity\n",
       "Agricultural vehicle                   Slight                84.4\n",
       "                                       Serious               14.5\n",
       "                                       Fatal                  1.1\n",
       "Bus or coach (17 or more pass seats)   Slight                85.7\n",
       "                                       Serious               13.0\n",
       "                                       Fatal                  1.3\n",
       "Car                                    Slight                85.3\n",
       "                                       Serious               13.3\n",
       "                                       Fatal                  1.3\n",
       "Data missing or out of range           Slight               100.0\n",
       "                                       Fatal                  0.0\n",
       "                                       Serious                0.0\n",
       "Goods 7.5 tonnes mgw and over          Slight                85.3\n",
       "                                       Serious               13.4\n",
       "                                       Fatal                  1.2\n",
       "Goods over 3.5t. and under 7.5t        Slight                84.8\n",
       "                                       Serious               14.1\n",
       "                                       Fatal                  1.1\n",
       "Minibus (8 - 16 passenger seats)       Slight                84.6\n",
       "                                       Serious               14.0\n",
       "                                       Fatal                  1.5\n",
       "Motorcycle 125cc and under             Slight                85.5\n",
       "                                       Serious               13.3\n",
       "                                       Fatal                  1.2\n",
       "Motorcycle 50cc and under              Slight                85.4\n",
       "                                       Serious               13.3\n",
       "                                       Fatal                  1.2\n",
       "Motorcycle over 125cc and up to 500cc  Slight                85.4\n",
       "                                       Serious               13.2\n",
       "                                       Fatal                  1.4\n",
       "Motorcycle over 500cc                  Slight                85.2\n",
       "                                       Serious               13.5\n",
       "                                       Fatal                  1.3\n",
       "Other vehicle                          Slight                85.2\n",
       "                                       Serious               13.6\n",
       "                                       Fatal                  1.2\n",
       "Pedal cycle                            Slight                77.2\n",
       "                                       Serious               19.8\n",
       "                                       Fatal                  3.0\n",
       "Ridden horse                           Slight               100.0\n",
       "                                       Fatal                  0.0\n",
       "                                       Serious                0.0\n",
       "Taxi/Private hire car                  Slight                85.5\n",
       "                                       Serious               13.3\n",
       "                                       Fatal                  1.2\n",
       "Van / Goods 3.5 tonnes mgw or under    Slight                85.3\n",
       "                                       Serious               13.3\n",
       "                                       Fatal                  1.4\n",
       "Name: proportion, dtype: float64"
      ]
     },
     "execution_count": 35,
     "metadata": {},
     "output_type": "execute_result"
    }
   ],
   "source": [
    "accident.groupby('Vehicle_Type')['Accident_Severity'].value_counts(normalize=True).mul(100).round(1)\n"
   ]
  },
  {
   "cell_type": "markdown",
   "id": "957e0248-2ee1-4671-9791-ef13370afbe6",
   "metadata": {},
   "source": [
    "<h3>Insight: Motorcycles and bicycles tend to have more severe accidents, while cars are mostly slight and trucks are fewer but more severe.</h3>"
   ]
  },
  {
   "cell_type": "markdown",
   "id": "529704fa-3fa3-482a-9020-7123554661c9",
   "metadata": {},
   "source": [
    "<h2>25. Do certain road surface conditions combined with specific weather (e.g., wet + rain) amplify severity?</h2>"
   ]
  },
  {
   "cell_type": "code",
   "execution_count": 33,
   "id": "9a4a3318-c7a1-49b3-83e4-a349eaa60f8f",
   "metadata": {},
   "outputs": [
    {
     "data": {
      "text/plain": [
       "Road_Surface_Conditions  Weather_Conditions     Accident_Severity\n",
       "Dry                      Fine + high winds      Slight                 4162\n",
       "                                                Serious                 758\n",
       "                                                Fatal                   103\n",
       "                         Fine no high winds     Slight               372898\n",
       "                                                Serious               60473\n",
       "                                                                      ...  \n",
       "unaccounted              Snowing + high winds   Serious                   0\n",
       "                                                Slight                    0\n",
       "                         Snowing no high winds  Fatal                     0\n",
       "                                                Serious                   0\n",
       "                                                Slight                    0\n",
       "Name: count, Length: 144, dtype: int64"
      ]
     },
     "execution_count": 33,
     "metadata": {},
     "output_type": "execute_result"
    }
   ],
   "source": [
    "accident.groupby(['Road_Surface_Conditions','Weather_Conditions'])['Accident_Severity'].value_counts()\n"
   ]
  },
  {
   "cell_type": "markdown",
   "id": "a88049cf-2eee-4164-b779-be55c9968768",
   "metadata": {},
   "source": [
    "<h3>Insight: Combinations like wet roads + rain and snow/ice + snow show higher average severity.\n",
    "Dry + fine weather dominates in count, but severity tends to be lower there.</h3>"
   ]
  },
  {
   "cell_type": "code",
   "execution_count": null,
   "id": "d195623e-6b8d-4797-8242-4b649bd47e27",
   "metadata": {},
   "outputs": [],
   "source": []
  }
 ],
 "metadata": {
  "kernelspec": {
   "display_name": "Python 3 (ipykernel)",
   "language": "python",
   "name": "python3"
  },
  "language_info": {
   "codemirror_mode": {
    "name": "ipython",
    "version": 3
   },
   "file_extension": ".py",
   "mimetype": "text/x-python",
   "name": "python",
   "nbconvert_exporter": "python",
   "pygments_lexer": "ipython3",
   "version": "3.13.7"
  }
 },
 "nbformat": 4,
 "nbformat_minor": 5
}
