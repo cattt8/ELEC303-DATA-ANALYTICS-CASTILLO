{
 "cells": [
  {
   "cell_type": "markdown",
   "id": "7c24e411-24c5-447d-b5e8-a353e280ba85",
   "metadata": {},
   "source": [
    "<H1>Activity 2: United Kingdom Road Accident Data Analysis</H1>"
   ]
  },
  {
   "cell_type": "code",
   "execution_count": 5,
   "id": "d04b23a5-8e59-4cfb-a4e8-17aa4c7deba7",
   "metadata": {},
   "outputs": [],
   "source": [
    "import numpy as np\n",
    "import pandas as pd\n",
    "import warnings\n",
    "warnings.filterwarnings('ignore')"
   ]
  },
  {
   "cell_type": "code",
   "execution_count": 6,
   "id": "40f0a66b-30c6-4014-915f-bfe1af209472",
   "metadata": {},
   "outputs": [],
   "source": [
    "accident = pd.read_csv(\"data\\\\accident_data.csv\")"
   ]
  },
  {
   "cell_type": "code",
   "execution_count": 7,
   "id": "6a00501c-28e5-48f7-b6ff-9156c41a60d3",
   "metadata": {},
   "outputs": [
    {
     "data": {
      "text/html": [
       "<div>\n",
       "<style scoped>\n",
       "    .dataframe tbody tr th:only-of-type {\n",
       "        vertical-align: middle;\n",
       "    }\n",
       "\n",
       "    .dataframe tbody tr th {\n",
       "        vertical-align: top;\n",
       "    }\n",
       "\n",
       "    .dataframe thead th {\n",
       "        text-align: right;\n",
       "    }\n",
       "</style>\n",
       "<table border=\"1\" class=\"dataframe\">\n",
       "  <thead>\n",
       "    <tr style=\"text-align: right;\">\n",
       "      <th></th>\n",
       "      <th>Index</th>\n",
       "      <th>Accident_Severity</th>\n",
       "      <th>Accident Date</th>\n",
       "      <th>Latitude</th>\n",
       "      <th>Light_Conditions</th>\n",
       "      <th>District Area</th>\n",
       "      <th>Longitude</th>\n",
       "      <th>Number_of_Casualties</th>\n",
       "      <th>Number_of_Vehicles</th>\n",
       "      <th>Road_Surface_Conditions</th>\n",
       "      <th>Road_Type</th>\n",
       "      <th>Urban_or_Rural_Area</th>\n",
       "      <th>Weather_Conditions</th>\n",
       "      <th>Vehicle_Type</th>\n",
       "    </tr>\n",
       "  </thead>\n",
       "  <tbody>\n",
       "    <tr>\n",
       "      <th>0</th>\n",
       "      <td>200701BS64157</td>\n",
       "      <td>Serious</td>\n",
       "      <td>5/6/2019</td>\n",
       "      <td>51.506187</td>\n",
       "      <td>Darkness - lights lit</td>\n",
       "      <td>Kensington and Chelsea</td>\n",
       "      <td>-0.209082</td>\n",
       "      <td>1</td>\n",
       "      <td>2</td>\n",
       "      <td>Dry</td>\n",
       "      <td>Single carriageway</td>\n",
       "      <td>Urban</td>\n",
       "      <td>Fine no high winds</td>\n",
       "      <td>Car</td>\n",
       "    </tr>\n",
       "    <tr>\n",
       "      <th>1</th>\n",
       "      <td>200701BS65737</td>\n",
       "      <td>Serious</td>\n",
       "      <td>2/7/2019</td>\n",
       "      <td>51.495029</td>\n",
       "      <td>Daylight</td>\n",
       "      <td>Kensington and Chelsea</td>\n",
       "      <td>-0.173647</td>\n",
       "      <td>1</td>\n",
       "      <td>2</td>\n",
       "      <td>Wet or damp</td>\n",
       "      <td>Single carriageway</td>\n",
       "      <td>Urban</td>\n",
       "      <td>Raining no high winds</td>\n",
       "      <td>Car</td>\n",
       "    </tr>\n",
       "    <tr>\n",
       "      <th>2</th>\n",
       "      <td>200701BS66127</td>\n",
       "      <td>Serious</td>\n",
       "      <td>26-08-2019</td>\n",
       "      <td>51.517715</td>\n",
       "      <td>Darkness - lighting unknown</td>\n",
       "      <td>Kensington and Chelsea</td>\n",
       "      <td>-0.210215</td>\n",
       "      <td>1</td>\n",
       "      <td>3</td>\n",
       "      <td>Dry</td>\n",
       "      <td>NaN</td>\n",
       "      <td>Urban</td>\n",
       "      <td>NaN</td>\n",
       "      <td>Taxi/Private hire car</td>\n",
       "    </tr>\n",
       "    <tr>\n",
       "      <th>3</th>\n",
       "      <td>200701BS66128</td>\n",
       "      <td>Serious</td>\n",
       "      <td>16-08-2019</td>\n",
       "      <td>51.495478</td>\n",
       "      <td>Daylight</td>\n",
       "      <td>Kensington and Chelsea</td>\n",
       "      <td>-0.202731</td>\n",
       "      <td>1</td>\n",
       "      <td>4</td>\n",
       "      <td>Dry</td>\n",
       "      <td>Single carriageway</td>\n",
       "      <td>Urban</td>\n",
       "      <td>Fine no high winds</td>\n",
       "      <td>Bus or coach (17 or more pass seats)</td>\n",
       "    </tr>\n",
       "    <tr>\n",
       "      <th>4</th>\n",
       "      <td>200701BS66837</td>\n",
       "      <td>Slight</td>\n",
       "      <td>3/9/2019</td>\n",
       "      <td>51.488576</td>\n",
       "      <td>Darkness - lights lit</td>\n",
       "      <td>Kensington and Chelsea</td>\n",
       "      <td>-0.192487</td>\n",
       "      <td>1</td>\n",
       "      <td>2</td>\n",
       "      <td>Dry</td>\n",
       "      <td>NaN</td>\n",
       "      <td>Urban</td>\n",
       "      <td>NaN</td>\n",
       "      <td>Other vehicle</td>\n",
       "    </tr>\n",
       "    <tr>\n",
       "      <th>...</th>\n",
       "      <td>...</td>\n",
       "      <td>...</td>\n",
       "      <td>...</td>\n",
       "      <td>...</td>\n",
       "      <td>...</td>\n",
       "      <td>...</td>\n",
       "      <td>...</td>\n",
       "      <td>...</td>\n",
       "      <td>...</td>\n",
       "      <td>...</td>\n",
       "      <td>...</td>\n",
       "      <td>...</td>\n",
       "      <td>...</td>\n",
       "      <td>...</td>\n",
       "    </tr>\n",
       "    <tr>\n",
       "      <th>660674</th>\n",
       "      <td>201091NM01760</td>\n",
       "      <td>Slight</td>\n",
       "      <td>18-02-2022</td>\n",
       "      <td>57.374005</td>\n",
       "      <td>Daylight</td>\n",
       "      <td>Highland</td>\n",
       "      <td>-3.467828</td>\n",
       "      <td>2</td>\n",
       "      <td>1</td>\n",
       "      <td>Dry</td>\n",
       "      <td>Single carriageway</td>\n",
       "      <td>Rural</td>\n",
       "      <td>Fine no high winds</td>\n",
       "      <td>Car</td>\n",
       "    </tr>\n",
       "    <tr>\n",
       "      <th>660675</th>\n",
       "      <td>201091NM01881</td>\n",
       "      <td>Slight</td>\n",
       "      <td>21-02-2022</td>\n",
       "      <td>57.232273</td>\n",
       "      <td>Darkness - no lighting</td>\n",
       "      <td>Highland</td>\n",
       "      <td>-3.809281</td>\n",
       "      <td>1</td>\n",
       "      <td>1</td>\n",
       "      <td>Frost or ice</td>\n",
       "      <td>Single carriageway</td>\n",
       "      <td>Rural</td>\n",
       "      <td>Fine no high winds</td>\n",
       "      <td>Car</td>\n",
       "    </tr>\n",
       "    <tr>\n",
       "      <th>660676</th>\n",
       "      <td>201091NM01935</td>\n",
       "      <td>Slight</td>\n",
       "      <td>23-02-2022</td>\n",
       "      <td>57.585044</td>\n",
       "      <td>Daylight</td>\n",
       "      <td>Highland</td>\n",
       "      <td>-3.862727</td>\n",
       "      <td>1</td>\n",
       "      <td>3</td>\n",
       "      <td>Frost or ice</td>\n",
       "      <td>Single carriageway</td>\n",
       "      <td>Rural</td>\n",
       "      <td>Fine no high winds</td>\n",
       "      <td>Car</td>\n",
       "    </tr>\n",
       "    <tr>\n",
       "      <th>660677</th>\n",
       "      <td>201091NM01964</td>\n",
       "      <td>Serious</td>\n",
       "      <td>23-02-2022</td>\n",
       "      <td>57.214898</td>\n",
       "      <td>Darkness - no lighting</td>\n",
       "      <td>Highland</td>\n",
       "      <td>-3.823997</td>\n",
       "      <td>1</td>\n",
       "      <td>2</td>\n",
       "      <td>Wet or damp</td>\n",
       "      <td>Single carriageway</td>\n",
       "      <td>Rural</td>\n",
       "      <td>Fine no high winds</td>\n",
       "      <td>Motorcycle over 500cc</td>\n",
       "    </tr>\n",
       "    <tr>\n",
       "      <th>660678</th>\n",
       "      <td>201091NM02142</td>\n",
       "      <td>Serious</td>\n",
       "      <td>28-02-2022</td>\n",
       "      <td>57.575210</td>\n",
       "      <td>Daylight</td>\n",
       "      <td>Highland</td>\n",
       "      <td>-3.895673</td>\n",
       "      <td>1</td>\n",
       "      <td>1</td>\n",
       "      <td>Wet or damp</td>\n",
       "      <td>Dual carriageway</td>\n",
       "      <td>Rural</td>\n",
       "      <td>Snowing no high winds</td>\n",
       "      <td>Car</td>\n",
       "    </tr>\n",
       "  </tbody>\n",
       "</table>\n",
       "<p>660679 rows × 14 columns</p>\n",
       "</div>"
      ],
      "text/plain": [
       "                Index Accident_Severity Accident Date   Latitude  \\\n",
       "0       200701BS64157           Serious      5/6/2019  51.506187   \n",
       "1       200701BS65737           Serious      2/7/2019  51.495029   \n",
       "2       200701BS66127           Serious    26-08-2019  51.517715   \n",
       "3       200701BS66128           Serious    16-08-2019  51.495478   \n",
       "4       200701BS66837            Slight      3/9/2019  51.488576   \n",
       "...               ...               ...           ...        ...   \n",
       "660674  201091NM01760            Slight    18-02-2022  57.374005   \n",
       "660675  201091NM01881            Slight    21-02-2022  57.232273   \n",
       "660676  201091NM01935            Slight    23-02-2022  57.585044   \n",
       "660677  201091NM01964           Serious    23-02-2022  57.214898   \n",
       "660678  201091NM02142           Serious    28-02-2022  57.575210   \n",
       "\n",
       "                   Light_Conditions           District Area  Longitude  \\\n",
       "0             Darkness - lights lit  Kensington and Chelsea  -0.209082   \n",
       "1                          Daylight  Kensington and Chelsea  -0.173647   \n",
       "2       Darkness - lighting unknown  Kensington and Chelsea  -0.210215   \n",
       "3                          Daylight  Kensington and Chelsea  -0.202731   \n",
       "4             Darkness - lights lit  Kensington and Chelsea  -0.192487   \n",
       "...                             ...                     ...        ...   \n",
       "660674                     Daylight                Highland  -3.467828   \n",
       "660675       Darkness - no lighting                Highland  -3.809281   \n",
       "660676                     Daylight                Highland  -3.862727   \n",
       "660677       Darkness - no lighting                Highland  -3.823997   \n",
       "660678                     Daylight                Highland  -3.895673   \n",
       "\n",
       "        Number_of_Casualties  Number_of_Vehicles Road_Surface_Conditions  \\\n",
       "0                          1                   2                     Dry   \n",
       "1                          1                   2             Wet or damp   \n",
       "2                          1                   3                     Dry   \n",
       "3                          1                   4                     Dry   \n",
       "4                          1                   2                     Dry   \n",
       "...                      ...                 ...                     ...   \n",
       "660674                     2                   1                     Dry   \n",
       "660675                     1                   1            Frost or ice   \n",
       "660676                     1                   3            Frost or ice   \n",
       "660677                     1                   2             Wet or damp   \n",
       "660678                     1                   1             Wet or damp   \n",
       "\n",
       "                 Road_Type Urban_or_Rural_Area     Weather_Conditions  \\\n",
       "0       Single carriageway               Urban     Fine no high winds   \n",
       "1       Single carriageway               Urban  Raining no high winds   \n",
       "2                      NaN               Urban                    NaN   \n",
       "3       Single carriageway               Urban     Fine no high winds   \n",
       "4                      NaN               Urban                    NaN   \n",
       "...                    ...                 ...                    ...   \n",
       "660674  Single carriageway               Rural     Fine no high winds   \n",
       "660675  Single carriageway               Rural     Fine no high winds   \n",
       "660676  Single carriageway               Rural     Fine no high winds   \n",
       "660677  Single carriageway               Rural     Fine no high winds   \n",
       "660678    Dual carriageway               Rural  Snowing no high winds   \n",
       "\n",
       "                                Vehicle_Type  \n",
       "0                                        Car  \n",
       "1                                        Car  \n",
       "2                      Taxi/Private hire car  \n",
       "3       Bus or coach (17 or more pass seats)  \n",
       "4                              Other vehicle  \n",
       "...                                      ...  \n",
       "660674                                   Car  \n",
       "660675                                   Car  \n",
       "660676                                   Car  \n",
       "660677                 Motorcycle over 500cc  \n",
       "660678                                   Car  \n",
       "\n",
       "[660679 rows x 14 columns]"
      ]
     },
     "execution_count": 7,
     "metadata": {},
     "output_type": "execute_result"
    }
   ],
   "source": [
    "accident"
   ]
  },
  {
   "cell_type": "code",
   "execution_count": 8,
   "id": "76b9f407-33f5-4eff-a8b5-e7e20b07e0db",
   "metadata": {},
   "outputs": [
    {
     "data": {
      "text/plain": [
       "Index                          0\n",
       "Accident_Severity              0\n",
       "Accident Date                  0\n",
       "Latitude                      25\n",
       "Light_Conditions               0\n",
       "District Area                  0\n",
       "Longitude                     26\n",
       "Number_of_Casualties           0\n",
       "Number_of_Vehicles             0\n",
       "Road_Surface_Conditions      726\n",
       "Road_Type                   4520\n",
       "Urban_or_Rural_Area           15\n",
       "Weather_Conditions         14128\n",
       "Vehicle_Type                   0\n",
       "dtype: int64"
      ]
     },
     "execution_count": 8,
     "metadata": {},
     "output_type": "execute_result"
    }
   ],
   "source": [
    "accident.isnull().sum()"
   ]
  },
  {
   "cell_type": "code",
   "execution_count": 9,
   "id": "39377787-14b0-4861-a69f-b12e7060cbce",
   "metadata": {},
   "outputs": [
    {
     "data": {
      "text/plain": [
       "Index                      0\n",
       "Accident_Severity          0\n",
       "Accident Date              0\n",
       "Latitude                   0\n",
       "Light_Conditions           0\n",
       "District Area              0\n",
       "Longitude                  0\n",
       "Number_of_Casualties       0\n",
       "Number_of_Vehicles         0\n",
       "Road_Surface_Conditions    0\n",
       "Road_Type                  0\n",
       "Urban_or_Rural_Area        0\n",
       "Weather_Conditions         0\n",
       "Vehicle_Type               0\n",
       "dtype: int64"
      ]
     },
     "execution_count": 9,
     "metadata": {},
     "output_type": "execute_result"
    }
   ],
   "source": [
    "accident[\"Latitude\"] = accident[\"Latitude\"].fillna(accident[\"Latitude\"].mean())\n",
    "accident[\"Longitude\"] = accident[\"Longitude\"].fillna(accident[\"Longitude\"].mean())\n",
    "accident[\"Road_Surface_Conditions\"] = accident[\"Road_Surface_Conditions\"].fillna('unaccounted')\n",
    "accident[\"Road_Type\"] = accident[\"Road_Type\"].fillna(accident[\"Road_Type\"].mode()[0])\n",
    "accident[\"Urban_or_Rural_Area\"] = accident[\"Urban_or_Rural_Area\"].fillna(accident[\"Urban_or_Rural_Area\"].mode()[0])\n",
    "accident[\"Weather_Conditions\"] = accident[\"Weather_Conditions\"].fillna(accident[\"Weather_Conditions\"].mode()[0])\n",
    "accident.isnull().sum()"
   ]
  },
  {
   "cell_type": "markdown",
   "id": "f86d5682-d44b-47ac-b54f-a0a6d49a617d",
   "metadata": {},
   "source": [
    "<h3>Adjusting Data types</h3>"
   ]
  },
  {
   "cell_type": "code",
   "execution_count": 10,
   "id": "9c4fd5da-106a-4074-a872-5b1bb6fa7bcb",
   "metadata": {},
   "outputs": [
    {
     "data": {
      "text/plain": [
       "Index                       object\n",
       "Accident_Severity           object\n",
       "Accident Date               object\n",
       "Latitude                   float64\n",
       "Light_Conditions            object\n",
       "District Area               object\n",
       "Longitude                  float64\n",
       "Number_of_Casualties         int64\n",
       "Number_of_Vehicles           int64\n",
       "Road_Surface_Conditions     object\n",
       "Road_Type                   object\n",
       "Urban_or_Rural_Area         object\n",
       "Weather_Conditions          object\n",
       "Vehicle_Type                object\n",
       "dtype: object"
      ]
     },
     "execution_count": 10,
     "metadata": {},
     "output_type": "execute_result"
    }
   ],
   "source": [
    "accident.dtypes"
   ]
  },
  {
   "cell_type": "markdown",
   "id": "6d919627-36d1-4b4d-9c22-3ca0add87ce7",
   "metadata": {},
   "source": [
    "<h3>Extracting date information using pandas date time</h3>"
   ]
  },
  {
   "cell_type": "code",
   "execution_count": 11,
   "id": "d960558a-fc1d-4f23-9f51-813214bbd5c7",
   "metadata": {},
   "outputs": [],
   "source": [
    "accident ['Accident Date'] = pd.to_datetime(accident['Accident Date'], dayfirst = True, errors = 'coerce')\n",
    "accident['Year'] = accident ['Accident Date'].dt.year\n",
    "accident['Month'] = accident ['Accident Date'].dt.month\n",
    "accident['Day'] = accident ['Accident Date'].dt.day\n",
    "accident['DayOfWeek'] = accident ['Accident Date'].dt.dayofweek"
   ]
  },
  {
   "cell_type": "code",
   "execution_count": 12,
   "id": "b8bda876-bdfa-4234-8c69-4d588af0a1dd",
   "metadata": {},
   "outputs": [
    {
     "data": {
      "text/plain": [
       "Index                           0\n",
       "Accident_Severity               0\n",
       "Accident Date              395672\n",
       "Latitude                        0\n",
       "Light_Conditions                0\n",
       "District Area                   0\n",
       "Longitude                       0\n",
       "Number_of_Casualties            0\n",
       "Number_of_Vehicles              0\n",
       "Road_Surface_Conditions         0\n",
       "Road_Type                       0\n",
       "Urban_or_Rural_Area             0\n",
       "Weather_Conditions              0\n",
       "Vehicle_Type                    0\n",
       "Year                       395672\n",
       "Month                      395672\n",
       "Day                        395672\n",
       "DayOfWeek                  395672\n",
       "dtype: int64"
      ]
     },
     "execution_count": 12,
     "metadata": {},
     "output_type": "execute_result"
    }
   ],
   "source": [
    "accident.isnull().sum()"
   ]
  },
  {
   "cell_type": "code",
   "execution_count": 13,
   "id": "0cb69a79-9c70-4ed1-b37f-7b2ea820f9ef",
   "metadata": {},
   "outputs": [
    {
     "data": {
      "text/plain": [
       "Index                            category\n",
       "Accident_Severity                category\n",
       "Accident Date              datetime64[ns]\n",
       "Latitude                          float64\n",
       "Light_Conditions                 category\n",
       "District Area                    category\n",
       "Longitude                         float64\n",
       "Number_of_Casualties                int64\n",
       "Number_of_Vehicles                  int64\n",
       "Road_Surface_Conditions          category\n",
       "Road_Type                        category\n",
       "Urban_or_Rural_Area              category\n",
       "Weather_Conditions               category\n",
       "Vehicle_Type                     category\n",
       "Year                              float64\n",
       "Month                             float64\n",
       "Day                               float64\n",
       "DayOfWeek                         float64\n",
       "dtype: object"
      ]
     },
     "execution_count": 13,
     "metadata": {},
     "output_type": "execute_result"
    }
   ],
   "source": [
    "accident[\"Index\"] = accident[\"Index\"].astype(\"category\")\n",
    "accident[\"Accident_Severity\"] = accident[\"Accident_Severity\"].astype(\"category\")\n",
    "accident[\"Light_Conditions\"] = accident[\"Light_Conditions\"].astype(\"category\")\n",
    "accident[\"District Area\"] = accident[\"District Area\"].astype(\"category\")\n",
    "accident[\"Road_Surface_Conditions\"] = accident[\"Road_Surface_Conditions\"].astype(\"category\")\n",
    "accident[\"Road_Type\"] = accident[\"Road_Type\"].astype(\"category\")\n",
    "accident[\"Urban_or_Rural_Area\"] = accident[\"Urban_or_Rural_Area\"].astype(\"category\")\n",
    "accident[\"Weather_Conditions\"] = accident[\"Weather_Conditions\"].astype(\"category\")\n",
    "accident[\"Vehicle_Type\"] = accident[\"Vehicle_Type\"].astype(\"category\")\n",
    "accident.dtypes"
   ]
  },
  {
   "cell_type": "markdown",
   "id": "dea1187e-bd6b-45f7-83c5-d3487ef633a9",
   "metadata": {},
   "source": [
    "<h2>QUESTIONS & INSIGHTS:</h2>"
   ]
  },
  {
   "cell_type": "markdown",
   "id": "26f86b72-b436-477e-a4d2-1f0fa692c288",
   "metadata": {},
   "source": [
    "<h3>1. Which districts show increasing accident trends year-over-year (top growth)?</h3>"
   ]
  },
  {
   "cell_type": "markdown",
   "id": "907552e9-6f1e-44a9-853d-2a8c914f64ef",
   "metadata": {},
   "source": [
    "<h3>2. Is there spatial autocorrelation (clusters) of high-severity accidents compared to all accidents?</h3>"
   ]
  },
  {
   "cell_type": "markdown",
   "id": "1c3358e4-6917-4979-a12f-3e205a29c02d",
   "metadata": {},
   "source": [
    "<h3>3. Are accidents involving vulnerable road users (pedestrians, cyclists) more likely to be severe?</h3>"
   ]
  },
  {
   "cell_type": "markdown",
   "id": "d7b25b48-1cdf-4c04-b6e1-73a2e5c19cb4",
   "metadata": {},
   "source": [
    "<h3>4. How does the number of accidents vary across different years?</h3>"
   ]
  },
  {
   "cell_type": "markdown",
   "id": "11e4ecf8-ad9a-48fb-854d-c9e258202573",
   "metadata": {},
   "source": [
    "<h3>5. What are the most accident-prone months?</h3>"
   ]
  },
  {
   "cell_type": "markdown",
   "id": "029b3886-0595-4c50-b480-9b7142f7b250",
   "metadata": {},
   "source": [
    "<h3>6. Which day of the week has the highest accident frequency?</h3>"
   ]
  },
  {
   "cell_type": "markdown",
   "id": "86d7b18e-87b4-4702-8b90-0bbca198cf9a",
   "metadata": {},
   "source": [
    "<h3>7. What time of day do most accidents occur (based on Light_Conditions)?</h3>"
   ]
  },
  {
   "cell_type": "markdown",
   "id": "fd819746-6e7b-4849-9527-f999b0705a19",
   "metadata": {},
   "source": [
    "<h3>8. What percentage of accidents fall into each severity category?</h3>"
   ]
  },
  {
   "cell_type": "markdown",
   "id": "3c5768bf-26c9-40f1-a387-a20bf835fd10",
   "metadata": {},
   "source": [
    "<h3>9. Does accident severity vary across different weather conditions? </h3>"
   ]
  },
  {
   "cell_type": "markdown",
   "id": "28bbffcd-c754-440d-b5d0-d497eb4eb833",
   "metadata": {},
   "source": [
    "<h3>10. Is accident severity higher in rural areas compared to urban areas?</h3>"
   ]
  },
  {
   "cell_type": "markdown",
   "id": "963383da-b785-4bf9-87c0-5686dfa6cf08",
   "metadata": {},
   "source": [
    "<h3> 11. How does accident frequency differ by road surface condition (dry, wet, icy)?</h3>"
   ]
  },
  {
   "cell_type": "markdown",
   "id": "bdc387a1-5848-400d-9759-244fdc669bb7",
   "metadata": {},
   "source": [
    "<h3>12. Which road type (single carriageway, dual carriageway, etc.) has the highest number of accidents?</h3>"
   ]
  },
  {
   "cell_type": "markdown",
   "id": "2930ad7b-4f55-45e5-9f09-2040ba7d9243",
   "metadata": {},
   "source": [
    "<h3> 13. Do certain districts report consistently higher accident counts?</h3>"
   ]
  },
  {
   "cell_type": "markdown",
   "id": "ba2437eb-9ca8-428e-91b5-658a34308201",
   "metadata": {},
   "source": [
    "<h3> 14. Which vehicle types are most commonly involved in accidents?</h3>"
   ]
  },
  {
   "cell_type": "markdown",
   "id": "ae301eac-9947-499d-9483-0443a0bf11b0",
   "metadata": {},
   "source": [
    "<h3> 15. Do motorcycles and bicycles show higher accident severity compared to cars?</h3>"
   ]
  },
  {
   "cell_type": "markdown",
   "id": "147d86ed-1b39-40d2-8b83-34ecaeb4b73a",
   "metadata": {},
   "source": [
    "<h3> 16. Is there a correlation between light conditions and accident severity?</h3>"
   ]
  },
  {
   "cell_type": "markdown",
   "id": "1fb1029b-7d84-475f-8d1a-a2db698c0a10",
   "metadata": {},
   "source": [
    "<h3> 17. Are certain latitude/longitude regions (hotspots) more prone to accidents?</h3>"
   ]
  },
  {
   "cell_type": "markdown",
   "id": "cf88c4eb-9363-4251-a146-101f80fcf9f2",
   "metadata": {},
   "source": [
    "<h3> 18. How do accident counts differ between urban and rural areas?</h3>"
   ]
  },
  {
   "cell_type": "markdown",
   "id": "169bad69-a10b-4163-afec-88e62baa99c2",
   "metadata": {},
   "source": [
    "<h3>  19. Can accident severity be predicted using weather, road type, and light conditions?</h3>"
   ]
  },
  {
   "cell_type": "markdown",
   "id": "47263e7d-9490-4006-8f78-cc34a43abaf2",
   "metadata": {},
   "source": [
    "<h3>20. Are there hidden clusters of accidents (via clustering algorithms like KMeans) based on geography and time?</h3>"
   ]
  },
  {
   "cell_type": "markdown",
   "id": "f91cbda1-d702-46ff-837f-11d998d7525e",
   "metadata": {},
   "source": [
    "<h3>21. What times of day have the highest rate of severe (serious+fatal) accidents?</h3>"
   ]
  },
  {
   "cell_type": "markdown",
   "id": "737f633a-f3d6-4d59-81c6-8ec852b5715d",
   "metadata": {},
   "source": [
    "<h3>22. Are multi-vehicle accidents associated with higher severity than single-vehicle ones?</h3>"
   ]
  },
  {
   "cell_type": "markdown",
   "id": "2ea94e57-3819-4ab2-bab9-e86b784cbff5",
   "metadata": {},
   "source": [
    "<h3>23. Do weekends show different severity patterns than weekdays?</h3>"
   ]
  },
  {
   "cell_type": "markdown",
   "id": "1e89ac40-59ed-4d46-b5c2-4e8d4f58aea4",
   "metadata": {},
   "source": [
    "<h3>24. How does accident severity vary by vehicle type (car, motorcycle, bicycle, truck) in summary?</h3>"
   ]
  },
  {
   "cell_type": "markdown",
   "id": "529704fa-3fa3-482a-9020-7123554661c9",
   "metadata": {},
   "source": [
    "<h3>25. Do certain road surface conditions combined with specific weather (e.g., wet + rain) amplify severity?</h3>"
   ]
  },
  {
   "cell_type": "code",
   "execution_count": null,
   "id": "c19227bc-90fd-48f0-94ab-7a980e32b650",
   "metadata": {},
   "outputs": [],
   "source": []
  }
 ],
 "metadata": {
  "kernelspec": {
   "display_name": "Python 3 (ipykernel)",
   "language": "python",
   "name": "python3"
  },
  "language_info": {
   "codemirror_mode": {
    "name": "ipython",
    "version": 3
   },
   "file_extension": ".py",
   "mimetype": "text/x-python",
   "name": "python",
   "nbconvert_exporter": "python",
   "pygments_lexer": "ipython3",
   "version": "3.13.7"
  }
 },
 "nbformat": 4,
 "nbformat_minor": 5
}
